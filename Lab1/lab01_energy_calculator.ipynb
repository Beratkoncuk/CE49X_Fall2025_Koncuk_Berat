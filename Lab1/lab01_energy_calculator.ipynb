{
 "cells": [
  {
   "cell_type": "markdown",
   "metadata": {},
   "source": [
    "# CE 49X - Lab 01: Building Energy Calculator\n",
    "\n",
    "**Student Name:** ______Berat__________  \n",
    "**Student ID:** ______2021403234__________  \n",
    "**Date:** _____06.10.2025___________\n",
    "\n",
    "---\n",
    "\n",
    "## Introduction\n",
    "\n",
    "Welcome to Lab 1! In this lab, you'll analyze building energy consumption using Python. Energy efficiency is crucial in civil engineering - buildings consume about 40% of global energy!\n",
    "\n",
    "You'll work with:\n",
    "- Variables and data types\n",
    "- Lists and dictionaries\n",
    "- Loops and conditionals\n",
    "- Functions\n",
    "- String formatting\n",
    "\n",
    "**Important:** Read the PDF instructions (`lab01_instructions.pdf`) for complete details!\n",
    "\n",
    "---"
   ]
  },
  {
   "cell_type": "markdown",
   "metadata": {},
   "source": [
    "## Exercise 1: Energy Consumption Basics (20 points)\n",
    "\n",
    "### Part A: Daily Energy Calculation (8 points)\n",
    "\n",
    "A commercial building has the following daily energy consumption:\n",
    "- Lighting: 450 kWh\n",
    "- HVAC: 1200 kWh\n",
    "- Equipment: 350 kWh\n",
    "- Other: 180 kWh\n",
    "\n",
    "**Tasks:**\n",
    "1. Create variables for each energy component\n",
    "2. Calculate total daily energy consumption\n",
    "3. Calculate monthly consumption (30 days)\n",
    "4. Print results with f-strings"
   ]
  },
  {
   "cell_type": "code",
   "execution_count": 5,
   "metadata": {},
   "outputs": [
    {
     "name": "stdout",
     "output_type": "stream",
     "text": [
      "Daily Energy Consumption:\n",
      "  Lighting: 450.00 kWh\n",
      "  HVAC: 1200.00 kWh\n",
      "  Equipment: 350.00 kWh\n",
      "  Other: 180.00 kWh\n",
      "  DailyTotal: 2180.00 kWh\n",
      "\n",
      "Monthly Consumption: 65400.00 kWh\n"
     ]
    }
   ],
   "source": [
    "# Exercise 1A: Daily Energy Calculation\n",
    "\n",
    "# TODO: Create variables for each energy component\n",
    "lighting = 450\n",
    "hvac = 1200\n",
    "equipment = 350 \n",
    "other = 180\n",
    "\n",
    "# TODO: Calculate total daily consumption\n",
    "daily_total = lighting+hvac+equipment+other  #Summed all of the energy components \n",
    "\n",
    "# TODO: Calculate monthly consumption (30 days)\n",
    "monthly_total = daily_total*30 \n",
    "\n",
    "# TODO: Print results using f-strings\n",
    "print(\"Daily Energy Consumption:\")\n",
    "print(f\"  Lighting: {lighting:.2f} kWh\") # prints lightning with 2 decimal\n",
    "print(f\"  HVAC: {hvac:.2f} kWh\") # used f string to print variables or calculations in quote\n",
    "print(f\"  Equipment: {equipment:.2f} kWh\")\n",
    "print(f\"  Other: {other:.2f} kWh\") \n",
    "print(f\"  DailyTotal: {daily_total:.2f} kWh\")\n",
    "# Add more print statements here\n",
    "\n",
    "print(f\"\\nMonthly Consumption: {monthly_total:.2f} kWh\") # prints monthly consumption but before it leaves a blank line "
   ]
  },
  {
   "cell_type": "markdown",
   "metadata": {},
   "source": [
    "### Part B: Unit Conversion (6 points)\n",
    "\n",
    "Convert the monthly energy consumption:\n",
    "- From kWh to MJ (1 kWh = 3.6 MJ)\n",
    "- From MJ to GJ (1 GJ = 1000 MJ)"
   ]
  },
  {
   "cell_type": "code",
   "execution_count": 6,
   "metadata": {},
   "outputs": [
    {
     "name": "stdout",
     "output_type": "stream",
     "text": [
      "Monthly Consumption:\n",
      "  65400.00 kWh\n",
      "  235440.00 MJ\n",
      "  235.44 GJ\n"
     ]
    }
   ],
   "source": [
    "# Exercise 1B: Unit Conversion\n",
    "\n",
    "# TODO: Convert monthly consumption to MJ\n",
    "monthly_mj = monthly_total*3.6 # converts monthly total to mega joule\n",
    "\n",
    "# TODO: Convert to GJ\n",
    "monthly_gj = monthly_mj/1000\n",
    "\n",
    "# TODO: Print results\n",
    "print(f\"Monthly Consumption:\")\n",
    "print(f\"  {monthly_total:.2f} kWh\")\n",
    "print(f\"  {monthly_mj:.2f} MJ\") # : means formatting has started and says pyhton to write it 2 decimals as float \n",
    "print(f\"  {monthly_gj:.2f} GJ\")\n",
    "# Add more conversions"
   ]
  },
  {
   "cell_type": "markdown",
   "metadata": {},
   "source": [
    "### Part C: Cost Calculation (6 points)\n",
    "\n",
    "Calculate costs using standard rate: 0.12 USD/kWh"
   ]
  },
  {
   "cell_type": "code",
   "execution_count": 7,
   "metadata": {},
   "outputs": [
    {
     "name": "stdout",
     "output_type": "stream",
     "text": [
      "Energy Costs:\n",
      "  Monthly: $7,848.00\n",
      "  Annual: $94,176.00\n"
     ]
    }
   ],
   "source": [
    "# Exercise 1C: Cost Calculation\n",
    "\n",
    "# TODO: Define the rate\n",
    "standard_rate = 0.12  # USD/kWh given as .12 \n",
    "\n",
    "# TODO: Calculate monthly cost\n",
    "monthly_cost = monthly_total*standard_rate \n",
    "\n",
    "# TODO: Calculate annual cost\n",
    "annual_cost = monthly_cost*12\n",
    "\n",
    "# TODO: Print results formatted as currency\n",
    "print(f\"Energy Costs:\")\n",
    "print(f\"  Monthly: ${monthly_cost:,.2f}\")\n",
    "print(f\"  Annual: ${annual_cost:,.2f}\")\n",
    "# Add annual cost"
   ]
  },
  {
   "cell_type": "markdown",
   "metadata": {},
   "source": [
    "---\n",
    "\n",
    "## Exercise 2: Building Energy Analysis (25 points)\n",
    "\n",
    "Analyze energy data for multiple buildings.\n",
    "\n",
    "### Given Data"
   ]
  },
  {
   "cell_type": "code",
   "execution_count": 8,
   "metadata": {},
   "outputs": [],
   "source": [
    "# Given data - DO NOT MODIFY\n",
    "buildings = ['Office A', 'Retail B', 'School C', 'Hospital D', 'Apartment E'] \n",
    "monthly_consumption = [85000, 62000, 48000, 125000, 71000]  # kWh\n",
    "floor_area = [2500, 1800, 3200, 4000, 2800]  # m^2"
   ]
  },
  {
   "cell_type": "markdown",
   "metadata": {},
   "source": [
    "### Part A: Energy Intensity Calculation (10 points)\n",
    "\n",
    "Energy Intensity = Monthly Consumption / Floor Area (kWh/m²/month)"
   ]
  },
  {
   "cell_type": "code",
   "execution_count": 9,
   "metadata": {},
   "outputs": [
    {
     "name": "stdout",
     "output_type": "stream",
     "text": [
      "Office A: 85000 kWh / 2500 m^2 = 34.00 kWh/m^2/month\n",
      "Retail B: 62000 kWh / 1800 m^2 = 34.44 kWh/m^2/month\n",
      "School C: 48000 kWh / 3200 m^2 = 15.00 kWh/m^2/month\n",
      "Hospital D: 125000 kWh / 4000 m^2 = 31.25 kWh/m^2/month\n",
      "Apartment E: 71000 kWh / 2800 m^2 = 25.36 kWh/m^2/month\n"
     ]
    }
   ],
   "source": [
    "# Exercise 2A: Energy Intensity\n",
    "\n",
    "# TODO: Create empty list for energy intensity\n",
    "energy_intensity = [] \n",
    "\n",
    "# TODO: Use for loop with enumerate to calculate intensity for each building\n",
    "for i, building in enumerate(buildings): # enumerate gives us both index (i) and value (building) for list element\n",
    "    # Calculate intensity\n",
    "    intensity = monthly_consumption[i]/floor_area[i] # intensity of ith building is ith monthly consumption/ ith floor area \n",
    "    \n",
    "    # Add to list\n",
    "    energy_intensity.append(intensity) # this adds the ith intensity to the energy intensity list \n",
    "    \n",
    "    # Print information\n",
    "    print(f\"{building}: {monthly_consumption[i]} kWh / {floor_area[i]} m^2 = {intensity:.2f} kWh/m^2/month\")"
   ]
  },
  {
   "cell_type": "markdown",
   "metadata": {},
   "source": [
    "### Part B: Statistical Analysis (8 points)\n",
    "\n",
    "Calculate statistics for the building dataset."
   ]
  },
  {
   "cell_type": "code",
   "execution_count": 10,
   "metadata": {},
   "outputs": [
    {
     "name": "stdout",
     "output_type": "stream",
     "text": [
      "==================================================\n",
      "Statistical Summary\n",
      "==================================================\n",
      "Total Monthly Consumption: 391,000 kWh\n",
      "Average Monthly Consumption: 78,200 kWh\n",
      "Highly Consumption: 125,000 kWh\n",
      "Lowest Consumption: 48,000 kWh\n"
     ]
    }
   ],
   "source": [
    "# Exercise 2B: Statistical Analysis\n",
    "\n",
    "# TODO: Calculate total consumption\n",
    "total_consumption = sum(monthly_consumption) # summed all of the elements in the monthly consumption list to find total\n",
    "\n",
    "# TODO: Calculate average consumption\n",
    "average_consumption = total_consumption/ len(monthly_consumption) # len gives us the  number of elements in the monthly consumption list \n",
    "\n",
    "# TODO: Find maximum and minimum\n",
    "max_consumption = max(monthly_consumption) # gives us the highest value of the list \n",
    "min_consumption =  min(monthly_consumption) # gives us the lowest value of the list \n",
    "\n",
    "# TODO: Print summary report\n",
    "print(\"=\" * 50)\n",
    "print(\"Statistical Summary\") # title\n",
    "print(\"=\" * 50)\n",
    "print(f\"Total Monthly Consumption: {total_consumption:,.0f} kWh\") #printing the total consumption value with 0 decimals and a title\n",
    "print(f\"Average Monthly Consumption: {average_consumption:,.0f} kWh\")  #printing the avg value with 0 decimals and a title\n",
    "print(f\"Highly Consumption: {max_consumption:,.0f} kWh\") # printing the max value with a Higly Consumption title with 0 decimals \n",
    "print(f\"Lowest Consumption: {min_consumption:,.0f} kWh\")  #printing the min value with a Lowest Consumption title with 0 decimals \n",
    "# Add more statistics"
   ]
  },
  {
   "cell_type": "markdown",
   "metadata": {},
   "source": [
    "### Part C: Find Buildings Above Average (7 points)\n",
    "\n",
    "Identify buildings with above-average consumption."
   ]
  },
  {
   "cell_type": "code",
   "execution_count": 11,
   "metadata": {},
   "outputs": [
    {
     "name": "stdout",
     "output_type": "stream",
     "text": [
      "\n",
      "Buildings with above-average consumption:\n",
      "['Office A', 'Hospital D']\n",
      "Count: 2 out of 5 buildings\n"
     ]
    }
   ],
   "source": [
    "# Exercise 2C: Buildings Above Average\n",
    "\n",
    "# TODO: Create list for buildings above average\n",
    "above_average = [] # We created an empty list to store buildings above average consumption \n",
    "\n",
    "# TODO: Use for loop with conditional to find buildings above average\n",
    "for i, building in enumerate(buildings):\n",
    "    if monthly_consumption[i] > average_consumption: # this line checks if the ith building's consumption is above average\n",
    "        # Add to list\n",
    "        above_average.append(building) # adds that building name to the above_average list \n",
    "\n",
    "# TODO: Print results\n",
    "print(f\"\\nBuildings with above-average consumption:\") # prints the title but before printing it leaves a blank line \n",
    "print(above_average) # prints the list of buildings above average\n",
    "print(f\"Count: {len(above_average)} out of {len(buildings)} buildings\") # this line prints how many buildings are above average out of how many buildings "
   ]
  },
  {
   "cell_type": "markdown",
   "metadata": {},
   "source": [
    "---\n",
    "\n",
    "## Exercise 3: Energy Efficiency Classifier (25 points)\n",
    "\n",
    "Classify buildings based on their annual energy consumption per m².\n",
    "\n",
    "**Efficiency Ratings:**\n",
    "- A: < 50 kWh/m²/year (Excellent)\n",
    "- B: 50-100 kWh/m²/year (Good)\n",
    "- C: 100-150 kWh/m²/year (Average)\n",
    "- D: 150-200 kWh/m²/year (Poor)\n",
    "- F: > 200 kWh/m²/year (Very Poor)\n",
    "\n",
    "### Part A: Annual Energy Calculation (8 points)"
   ]
  },
  {
   "cell_type": "code",
   "execution_count": 12,
   "metadata": {},
   "outputs": [
    {
     "name": "stdout",
     "output_type": "stream",
     "text": [
      "Annual Energy Intensity:\n",
      "Office A: 408.00 kWh/m^2/year\n",
      "Retail B: 413.33 kWh/m^2/year\n",
      "School C: 180.00 kWh/m^2/year\n",
      "Hospital D: 375.00 kWh/m^2/year\n",
      "Apartment E: 304.29 kWh/m^2/year\n"
     ]
    }
   ],
   "source": [
    "# Exercise 3A: Annual Energy Calculation\n",
    "\n",
    "# TODO: Convert monthly intensity to annual (multiply by 12)\n",
    "annual_intensity = []   # it's an empty list to store annual values\n",
    "\n",
    "for intensity in energy_intensity: # loop through each monthly intensity value\n",
    "    annual = intensity*12   # converts monthly to annual by multiplying with 12\n",
    "    annual_intensity.append(annual) # adds the annual to our list \n",
    "\n",
    "# TODO: Print each building with annual intensity\n",
    "print(\"Annual Energy Intensity:\")\n",
    "for i, building in enumerate(buildings): # loop through buildings and their indices\n",
    "    print(f\"{building}: {annual_intensity[i]:.2f} kWh/m^2/year\")  # print building name and its annual intensity"
   ]
  },
  {
   "cell_type": "markdown",
   "metadata": {},
   "source": [
    "### Part B: Efficiency Classification (12 points)"
   ]
  },
  {
   "cell_type": "code",
   "execution_count": 13,
   "metadata": {},
   "outputs": [
    {
     "name": "stdout",
     "output_type": "stream",
     "text": [
      "\n",
      "============================================================\n",
      "Energy Efficiency Report\n",
      "============================================================\n",
      "Office A: 408.00 kWh/m^2/year - Rating: F\n",
      "Retail B: 413.33 kWh/m^2/year - Rating: F\n",
      "School C: 180.00 kWh/m^2/year - Rating: D\n",
      "Hospital D: 375.00 kWh/m^2/year - Rating: F\n",
      "Apartment E: 304.29 kWh/m^2/year - Rating: F\n"
     ]
    }
   ],
   "source": [
    "# Exercise 3B: Efficiency Classification\n",
    "\n",
    "# TODO: Create list for ratings\n",
    "ratings = []  # we create empty list to store efficiency ratings\n",
    "\n",
    "# TODO: Classify each building\n",
    "for i, building in enumerate(buildings):\n",
    "    intensity = annual_intensity[i] # we defined varible and it takes the ith element from the list\n",
    "    \n",
    "    # Use if/elif/else to assign rating\n",
    "    if intensity < 50: # intenstiy less than 50 → Rating A\n",
    "        rating = 'A' \n",
    "    elif intensity < 100: # intensity between 50–99 → Rating B\n",
    "        rating = 'B'\n",
    "    elif intensity < 150: # intensity between 100–149 → Rating C\n",
    "        rating = 'C'\n",
    "    elif intensity < 200: # intensity between  150–199 → Rating D\n",
    "        rating = 'D'\n",
    "    else:  # 200 or higher → Rating F\n",
    "        rating = 'F'\n",
    "    # TODO: Add more conditions for C, D, F\n",
    "    \n",
    "    ratings.append(rating) # adds rating to our list\n",
    "\n",
    "# TODO: Print formatted report\n",
    "print(\"\\n\" + \"=\" * 60)\n",
    "print(\"Energy Efficiency Report\")\n",
    "print(\"=\" * 60)\n",
    "for i, building in enumerate(buildings):\n",
    "    print(f\"{building}: {annual_intensity[i]:.2f} kWh/m^2/year - Rating: {ratings[i]}\")"
   ]
  },
  {
   "cell_type": "markdown",
   "metadata": {},
   "source": [
    "### Part C: Rating Summary (5 points)"
   ]
  },
  {
   "cell_type": "code",
   "execution_count": 14,
   "metadata": {},
   "outputs": [
    {
     "name": "stdout",
     "output_type": "stream",
     "text": [
      "\n",
      "Rating Summary:\n",
      "  A (Excellent): 0\n",
      "  B (Good):      0\n",
      "  C (Average):   0\n",
      "  D (Poor):      1\n",
      "  F (Very Poor): 4\n",
      "\n",
      "Most Common Rating: F (4 buildings)\n"
     ]
    }
   ],
   "source": [
    "# Exercise 3C: Rating Summary\n",
    "\n",
    "# TODO: Count buildings in each rating category\n",
    "count_a = ratings.count('A') # this counts how many buildings have rating 'A'\n",
    "count_b = ratings.count('B') # this counts how many buildings have rating 'B'\n",
    "count_c = ratings.count('C') # this counts how many buildings have rating 'C'\n",
    "count_d = ratings.count('D') # this counts how many buildings have rating 'D'\n",
    "count_f = ratings.count('F') # this counts how many buildings have rating 'F'\n",
    "\n",
    "# TODO: Print summary\n",
    "print(\"\\nRating Summary:\") # prints the title but before leaves a blank line \n",
    "print(f\"  A (Excellent): {count_a}\")  # displays amount of A-rated buildings\n",
    "print(f\"  B (Good):      {count_b}\")   # display count of B-rated buildings\n",
    "print(f\"  C (Average):   {count_c}\")   # display count of C-rated buildings\n",
    "print(f\"  D (Poor):      {count_d}\")   # display count of D-rated buildings\n",
    "print(f\"  F (Very Poor): {count_f}\")   # display count of F-rated buildings\n",
    "# Add more ratings\n",
    "\n",
    "# TODO: Find most common rating \n",
    "# we create here dictionary\n",
    "rating_counts = {  \n",
    "    'A': count_a,\n",
    "    'B': count_b,\n",
    "    'C': count_c,\n",
    "    'D': count_d,\n",
    "    'F': count_f\n",
    "    }\n",
    "\n",
    "most_common_rating = max(rating_counts, key=rating_counts.get) # keys are 'A' 'B' 'C'... and we want python to look the value not the key itself\n",
    "# .get(key) returns the value associated with that key (number of buildings for each rating)\n",
    "\n",
    "print(f\"\\nMost Common Rating: {most_common_rating} ({rating_counts[most_common_rating]} buildings)\") # prints the most common rating and how many buildings have it\n",
    "# Hint: You can create a dictionary or compare counts"
   ]
  },
  {
   "cell_type": "markdown",
   "metadata": {},
   "source": [
    "---\n",
    "\n",
    "## Exercise 4: Energy Cost Calculator (20 points)\n",
    "\n",
    "### Part A: Simple Cost Function (8 points)"
   ]
  },
  {
   "cell_type": "code",
   "execution_count": 15,
   "metadata": {},
   "outputs": [
    {
     "name": "stdout",
     "output_type": "stream",
     "text": [
      "Monthly cost for 50000 kWh at $0.12/kWh: $6,000.00\n"
     ]
    }
   ],
   "source": [
    "# Exercise 4A: Simple Cost Function\n",
    "\n",
    "def calculate_monthly_cost(consumption_kwh, rate_per_kwh): # defined a function to calculate monthly cost with 2 parameters\n",
    "    \"\"\"\n",
    "    Calculate monthly energy cost.\n",
    "    \n",
    "    Parameters:\n",
    "        consumption_kwh (float): Monthly energy consumption in kWh\n",
    "        rate_per_kwh (float): Energy rate in USD/kWh\n",
    "    \n",
    "    Returns:\n",
    "        float: Monthly cost in USD\n",
    "    \"\"\"\n",
    "    # TODO: Calculate and return cost\n",
    "    cost = consumption_kwh * rate_per_kwh # multiplied consumption by rate to get cost\n",
    "    return cost  # return sends the calculated cost back to caller for outer use \n",
    "\n",
    "# TODO: Test the function\n",
    "test_consumption = 50000  # kWh, monthly consumption test example \n",
    "test_rate = 0.12  # USD/kWh, energy rate test example \n",
    "result = calculate_monthly_cost(test_consumption, test_rate) # calls the function with test values\n",
    "print(f\"Monthly cost for {test_consumption} kWh at ${test_rate}/kWh: ${result:,.2f}\") # prints the formatted and returned value"
   ]
  },
  {
   "cell_type": "markdown",
   "metadata": {},
   "source": [
    "### Part B: Peak/Off-Peak Cost Function (12 points)"
   ]
  },
  {
   "cell_type": "code",
   "execution_count": 16,
   "metadata": {},
   "outputs": [
    {
     "name": "stdout",
     "output_type": "stream",
     "text": [
      "\n",
      "Tiered Pricing Analysis for 85000 kWh:\n",
      "  Peak cost (60%): $7,650.00\n",
      "  Off-peak cost (40%): $2,720.00\n",
      "  Total cost: $10,370.00\n"
     ]
    }
   ],
   "source": [
    "# Exercise 4B: Peak/Off-Peak Cost Function\n",
    "\n",
    "def calculate_tiered_cost(total_consumption, peak_percentage=0.6): # defined a function with parameters and peak_percentage has default 0.6\n",
    "    \"\"\"\n",
    "    Calculate cost with peak/off-peak pricing.\n",
    "    \n",
    "    Parameters:\n",
    "        total_consumption (float): Total monthly consumption in kWh\n",
    "        peak_percentage (float): Fraction of consumption during peak hours (default 0.6)\n",
    "    \n",
    "    Returns:\n",
    "        tuple: (peak_cost, off_peak_cost, total_cost)\n",
    "    \"\"\"\n",
    "    peak_rate = 0.15  # USD/kWh, price of peak hours is given \n",
    "    off_peak_rate = 0.08  # USD/kWh price when off-peak hours is given\n",
    "    \n",
    "    # TODO: Calculate peak consumption\n",
    "    peak_consumption = total_consumption * peak_percentage # calculates kWh consumed during peak\n",
    "    \n",
    "    # TODO: Calculate off-peak consumption\n",
    "    off_peak_consumption = total_consumption * ( 1- peak_percentage)  # calculates kWh consumed during off-peak \n",
    "    # to find off-peak percentage \n",
    "    # TODO: Calculate costs\n",
    "    peak_cost = peak_consumption * peak_rate # cost for peak consumption \n",
    "    off_peak_cost = off_peak_consumption * off_peak_rate # cost for off-peak consumption \n",
    "    total_cost = peak_cost + off_peak_cost #total monthly cost\n",
    "    \n",
    "    return peak_cost, off_peak_cost, total_cost  # return all three costs\n",
    "\n",
    "# TODO: Test the function\n",
    "test_consumption = 85000  # kWh\n",
    "peak_cost, off_peak_cost, total_cost = calculate_tiered_cost(test_consumption, 0.6 ) #returns 3 values\n",
    "\n",
    "print(f\"\\nTiered Pricing Analysis for {test_consumption} kWh:\")\n",
    "print(f\"  Peak cost (60%): ${peak_cost:,.2f}\") # print peak cost with 2 decimals\n",
    "print(f\"  Off-peak cost (40%): ${off_peak_cost:,.2f}\")\n",
    "print(f\"  Total cost: ${total_cost:,.2f}\")"
   ]
  },
  {
   "cell_type": "markdown",
   "metadata": {},
   "source": [
    "---\n",
    "\n",
    "## Exercise 5: Challenge - Energy Optimization (10 points)\n",
    "\n",
    "### Part A: Most and Least Efficient Buildings (5 points)"
   ]
  },
  {
   "cell_type": "code",
   "execution_count": 17,
   "metadata": {},
   "outputs": [
    {
     "name": "stdout",
     "output_type": "stream",
     "text": [
      "============================================================\n",
      "Efficiency Comparison\n",
      "============================================================\n",
      "Most efficient: School C\n",
      "  Intensity: 180.00 kWh/m^2/year\n",
      "  Rating: D\n",
      "\n",
      "Least efficient: Retail B\n",
      "  Intensity: 413.33 kWh/m^2/year\n",
      "  Rating: F\n",
      "\n",
      "Percentage difference: 129.6%\n"
     ]
    }
   ],
   "source": [
    "# Exercise 5A: Most and Least Efficient\n",
    "\n",
    "# TODO: Find minimum and maximum annual intensity\n",
    "min_intensity = min(annual_intensity) # it takes the min value of the annual intensity list we created in ex.3\n",
    "max_intensity = max(annual_intensity) # it takes the max of it \n",
    "\n",
    "# TODO: Find which buildings these correspond to\n",
    "min_index = annual_intensity.index(min_intensity) # gives the position of smallest intensity\n",
    "max_index = annual_intensity.index(max_intensity) # givest postition of max intensity\n",
    "\n",
    "# TODO: Get building names\n",
    "most_efficient = buildings[min_index] # takes the building name which has maximum intensity from the list we created in ex.2\n",
    "least_efficient = buildings[max_index] # takes the building name which has minimum intensity from the list we created in ex.2\n",
    "\n",
    "# TODO: Print results\n",
    "print(\"=\" * 60)\n",
    "print(\"Efficiency Comparison\")\n",
    "print(\"=\" * 60)\n",
    "print(f\"Most efficient: {most_efficient}\")\n",
    "print(f\"  Intensity: {min_intensity:.2f} kWh/m^2/year\") # prints max efficient one since it uses the min energy\n",
    "print(f\"  Rating: {ratings[min_index]}\") # takes the rating from the ratings list we created in ex.3b\n",
    "\n",
    "# Add least efficient\n",
    "print(f\"\\nLeast efficient: {least_efficient}\")\n",
    "print(f\"  Intensity: {max_intensity:.2f} kWh/m^2/year\") # prints the least efficient since use max energy\n",
    "print(f\"  Rating: {ratings[max_index]}\")\n",
    "\n",
    "# TODO: Calculate percentage difference\n",
    "percentage_diff = ((max_intensity-min_intensity)/min_intensity) * 100 \n",
    "print(f\"\\nPercentage difference: {percentage_diff:.1f}%\") # prints percentage_diff with 1 decimal"
   ]
  },
  {
   "cell_type": "markdown",
   "metadata": {},
   "source": [
    "### Part B: Energy Savings Potential (5 points)\n",
    "\n",
    "Calculate savings if all buildings achieved Rating B (100 kWh/m²/year)."
   ]
  },
  {
   "cell_type": "code",
   "execution_count": 18,
   "metadata": {},
   "outputs": [
    {
     "name": "stdout",
     "output_type": "stream",
     "text": [
      "\n",
      "============================================================\n",
      "Energy Savings Potential\n",
      "============================================================\n",
      "Target: Rating B (100 kWh/m^2/year)\n",
      "\n",
      "Office A: Could save 770,000 kWh/year\n",
      "Retail B: Could save 564,000 kWh/year\n",
      "School C: Could save 256,000 kWh/year\n",
      "Hospital D: Could save 1,100,000 kWh/year\n",
      "Apartment E: Could save 572,000 kWh/year\n",
      "\n",
      "Total Potential Savings: 3,262,000 kWh/year\n",
      "Annual Cost Savings: $391,440.00\n"
     ]
    }
   ],
   "source": [
    "# Exercise 5B: Energy Savings Potential\n",
    "\n",
    "target_intensity = 100  # kWh/m^2/year for Rating B\n",
    "total_savings_kwh = 0   # variable to store total energy savings for all buildings\n",
    "\n",
    "print(\"\\n\" + \"=\" * 60)\n",
    "print(\"Energy Savings Potential\")\n",
    "print(\"=\" * 60)\n",
    "print(f\"Target: Rating B ({target_intensity} kWh/m^2/year)\\n\")\n",
    "\n",
    "# TODO: Loop through buildings and calculate savings\n",
    "for i, building in enumerate(buildings):\n",
    "    # Check if building has worse rating than B (C, D, or F)\n",
    "    if annual_intensity[i] > target_intensity: # Checks if the ith building’s energy intensity is higher than the target (worse than B)\n",
    "        # Calculate current annual consumption\n",
    "        current_consumption = annual_intensity[i] * floor_area[i] # Current total annual energy use\n",
    "        \n",
    "        # Calculate target consumption\n",
    "        target_consumption = target_intensity * floor_area[i] # target consumption is target intensity times ith floor area\n",
    "        \n",
    "        # Calculate savings\n",
    "        savings = current_consumption - target_consumption\n",
    "        \n",
    "        # Add to total\n",
    "        total_savings_kwh += savings # it adds the savings to total_savings_kwh\n",
    "        \n",
    "        print(f\"{building}: Could save {savings:,.0f} kWh/year\")\n",
    "\n",
    "# TODO: Calculate cost savings\n",
    "cost_savings = total_savings_kwh * 0.12  # Standard rate\n",
    "\n",
    "print(f\"\\nTotal Potential Savings: {total_savings_kwh:,.0f} kWh/year\")\n",
    "print(f\"Annual Cost Savings: ${cost_savings:,.2f}\")"
   ]
  },
  {
   "cell_type": "markdown",
   "metadata": {},
   "source": [
    "---\n",
    "\n",
    "## Bonus Challenge (Optional, +5 points)\n",
    "\n",
    "Create an interactive energy calculator that gets user input."
   ]
  },
  {
   "cell_type": "code",
   "execution_count": 19,
   "metadata": {},
   "outputs": [
    {
     "name": "stdout",
     "output_type": "stream",
     "text": [
      "Interactive Building Energy Calculator\n",
      "============================================================\n",
      "Thank you for using the calculator!\n"
     ]
    }
   ],
   "source": [
    "# Bonus: Interactive Energy Calculator\n",
    "\n",
    "# TODO: Create interactive program with input() and try/except\n",
    "# Use a while loop to allow multiple buildings\n",
    "# Handle errors gracefully\n",
    "\n",
    "# Starter code:\n",
    "print(\"Interactive Building Energy Calculator\")\n",
    "print(\"=\" * 60)\n",
    "\n",
    "while True: # starts an infinite loop to keep program running until user says quit\n",
    "    # Get user input\n",
    "    name = input(\"\\nEnter building name (or 'quit' to exit): \")  # ask user for building name\n",
    "    \n",
    "    if name.lower() == 'quit': # check if user wants to exit \n",
    "        print(\"Thank you for using the calculator!\")\n",
    "        break # exit the loop and end program\n",
    "    \n",
    "    try: # try is to handle possible input errors\n",
    "        energy_kwh = float(input(\"Enter annual energy consumption (kWh): \")) # get annual energy use \n",
    "        area_m2 = float(input(\"Enter total floor area (m²): \"))\n",
    "        \n",
    "        if area_m2 <= 0: # checks if area input is valid \n",
    "            raise ValueError(\"Area must be greater than zero.\") # manually raise error if invalid\n",
    "        \n",
    "        intensity = energy_kwh / area_m2\n",
    "\n",
    "        if intensity <= 100:\n",
    "            rating = \"A or B (Efficient)\"\n",
    "        elif intensity <= 150:\n",
    "            rating = \"C (Moderate)\"\n",
    "        elif intensity <= 200:\n",
    "            rating = \"D (Inefficient)\"\n",
    "        else:\n",
    "            rating = \"F (Very Inefficient)\"\n",
    "\n",
    "        print(\"\\n\" + \"-\" * 60)\n",
    "        print(f\"Building: {name}\")\n",
    "        print(f\"Energy Intensity: {intensity:.2f} kWh/m²/year\")\n",
    "        print(f\"Efficiency Rating: {rating}\")\n",
    "        print(\"-\" * 60)\n",
    "        \n",
    "        # TODO: Get consumption and area from user\n",
    "        # TODO: Perform calculations\n",
    "        # TODO: Print formatted report\n",
    "        pass # placeholder\n",
    "        \n",
    "    except ValueError: # handles invalid numeric input (for ex. letters instead of numbers)\n",
    "        print(\"Error: Please enter valid numbers!\")\n",
    "    except Exception as e: # handles any unexpected error\n",
    "        print(f\"Error: {e}\")"
   ]
  },
  {
   "cell_type": "markdown",
   "metadata": {},
   "source": [
    "---\n",
    "\n",
    "## Reflection Questions\n",
    "\n",
    "Answer these questions in the markdown cell below:\n",
    "\n",
    "1. What was the most challenging part of this lab?\n",
    "2. How could energy efficiency analysis help civil engineers in real projects?\n",
    "3. What additional features would make this calculator more useful?"
   ]
  },
  {
   "cell_type": "markdown",
   "metadata": {},
   "source": [
    "### Your Answers:\n",
    "\n",
    "1. Understanding the logic first was challenging but I handled it\n",
    "\n",
    "2. Energy efficiency analysis helps us design sustainable, cost-effective, and environmentally friendly buildings by identifying ways to reduce energy use.\n",
    "\n",
    "3. The calculator could be improved with data saving, cost and carbon estimations, and a simple graphical user interface.\n"
   ]
  },
  {
   "cell_type": "markdown",
   "metadata": {},
   "source": [
    "---\n",
    "\n",
    "## Submission Checklist\n",
    "\n",
    "Before submitting, make sure:\n",
    "- [ ] All code cells have been executed and show outputs\n",
    "- [ ] All TODO items have been completed\n",
    "- [ ] Code includes comments explaining your logic\n",
    "- [ ] Output is formatted clearly with appropriate decimal places\n",
    "- [ ] Reflection questions are answered\n",
    "- [ ] File is saved as `lab01_energy_calculator.ipynb`\n",
    "\n",
    "**Good luck! 🌟**"
   ]
  }
 ],
 "metadata": {
  "kernelspec": {
   "display_name": "Python 3",
   "language": "python",
   "name": "python3"
  },
  "language_info": {
   "codemirror_mode": {
    "name": "ipython",
    "version": 3
   },
   "file_extension": ".py",
   "mimetype": "text/x-python",
   "name": "python",
   "nbconvert_exporter": "python",
   "pygments_lexer": "ipython3",
   "version": "3.13.7"
  }
 },
 "nbformat": 4,
 "nbformat_minor": 4
}
